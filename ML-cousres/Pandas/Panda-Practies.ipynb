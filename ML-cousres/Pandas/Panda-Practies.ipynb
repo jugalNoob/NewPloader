{
 "cells": [
  {
   "cell_type": "code",
   "execution_count": 40,
   "id": "e3201bf5",
   "metadata": {},
   "outputs": [],
   "source": [
    "import pandas  as pd\n",
    "import numpy as np"
   ]
  },
  {
   "cell_type": "code",
   "execution_count": 4,
   "id": "748dca97",
   "metadata": {},
   "outputs": [
    {
     "name": "stdout",
     "output_type": "stream",
     "text": [
      "<module 'pandas' from 'C:\\\\Users\\\\sjuga\\\\AppData\\\\Local\\\\Programs\\\\Python\\\\Python311\\\\Lib\\\\site-packages\\\\pandas\\\\__init__.py'>\n"
     ]
    }
   ],
   "source": [
    "print(pd)"
   ]
  },
  {
   "cell_type": "code",
   "execution_count": 92,
   "id": "65be04f7",
   "metadata": {},
   "outputs": [
    {
     "name": "stdout",
     "output_type": "stream",
     "text": [
      "     name  marks      city\n",
      "0   jugal     92     jammu\n",
      "1  sharma     40    rampur\n",
      "2   karan     20  pinkcity\n",
      "3    anku     68   newYokr\n"
     ]
    },
    {
     "ename": "AttributeError",
     "evalue": "'DataFrame' object has no attribute 'types'",
     "output_type": "error",
     "traceback": [
      "\u001b[1;31m---------------------------------------------------------------------------\u001b[0m",
      "\u001b[1;31mAttributeError\u001b[0m                            Traceback (most recent call last)",
      "Cell \u001b[1;32mIn [92], line 20\u001b[0m\n\u001b[0;32m     11\u001b[0m \u001b[38;5;28mprint\u001b[39m(df)\n\u001b[0;32m     12\u001b[0m \u001b[38;5;66;03m#use a list of indexes:\u001b[39;00m\n\u001b[0;32m     13\u001b[0m \u001b[38;5;66;03m#print(df.loc[[0, 1]])\u001b[39;00m\n\u001b[0;32m     14\u001b[0m \u001b[38;5;66;03m#convet to csv file\u001b[39;00m\n\u001b[1;32m   (...)\u001b[0m\n\u001b[0;32m     18\u001b[0m \u001b[38;5;66;03m#df.rows\u001b[39;00m\n\u001b[0;32m     19\u001b[0m \u001b[38;5;66;03m#df.to_csv(\"friend.csv\" , index=False)\u001b[39;00m\n\u001b[1;32m---> 20\u001b[0m \u001b[43mdf\u001b[49m\u001b[38;5;241;43m.\u001b[39;49m\u001b[43mtypes\u001b[49m\n",
      "File \u001b[1;32m~\\AppData\\Local\\Programs\\Python\\Python311\\Lib\\site-packages\\pandas\\core\\generic.py:5902\u001b[0m, in \u001b[0;36mNDFrame.__getattr__\u001b[1;34m(self, name)\u001b[0m\n\u001b[0;32m   5895\u001b[0m \u001b[38;5;28;01mif\u001b[39;00m (\n\u001b[0;32m   5896\u001b[0m     name \u001b[38;5;129;01mnot\u001b[39;00m \u001b[38;5;129;01min\u001b[39;00m \u001b[38;5;28mself\u001b[39m\u001b[38;5;241m.\u001b[39m_internal_names_set\n\u001b[0;32m   5897\u001b[0m     \u001b[38;5;129;01mand\u001b[39;00m name \u001b[38;5;129;01mnot\u001b[39;00m \u001b[38;5;129;01min\u001b[39;00m \u001b[38;5;28mself\u001b[39m\u001b[38;5;241m.\u001b[39m_metadata\n\u001b[0;32m   5898\u001b[0m     \u001b[38;5;129;01mand\u001b[39;00m name \u001b[38;5;129;01mnot\u001b[39;00m \u001b[38;5;129;01min\u001b[39;00m \u001b[38;5;28mself\u001b[39m\u001b[38;5;241m.\u001b[39m_accessors\n\u001b[0;32m   5899\u001b[0m     \u001b[38;5;129;01mand\u001b[39;00m \u001b[38;5;28mself\u001b[39m\u001b[38;5;241m.\u001b[39m_info_axis\u001b[38;5;241m.\u001b[39m_can_hold_identifiers_and_holds_name(name)\n\u001b[0;32m   5900\u001b[0m ):\n\u001b[0;32m   5901\u001b[0m     \u001b[38;5;28;01mreturn\u001b[39;00m \u001b[38;5;28mself\u001b[39m[name]\n\u001b[1;32m-> 5902\u001b[0m \u001b[38;5;28;01mreturn\u001b[39;00m \u001b[38;5;28;43mobject\u001b[39;49m\u001b[38;5;241;43m.\u001b[39;49m\u001b[38;5;21;43m__getattribute__\u001b[39;49m\u001b[43m(\u001b[49m\u001b[38;5;28;43mself\u001b[39;49m\u001b[43m,\u001b[49m\u001b[43m \u001b[49m\u001b[43mname\u001b[49m\u001b[43m)\u001b[49m\n",
      "\u001b[1;31mAttributeError\u001b[0m: 'DataFrame' object has no attribute 'types'"
     ]
    }
   ],
   "source": [
    "#dict1 convert to Pd\n",
    "\n",
    "dict1={\n",
    "    \"name\":[\"jugal\" , \"sharma\" , \"karan\" , \"anku\"],\n",
    "    \"marks\":[92 , 40 , 20 , 68],\n",
    "    \"city\":[\"jammu\" , \"rampur\" , \"pinkcity\" , \"newYokr\"]\n",
    "} \n",
    "\n",
    "#print(dict1[\"name\"])\n",
    "df=pd.DataFrame(dict1)\n",
    "print(df)\n",
    "#use a list of indexes:\n",
    "#print(df.loc[[0, 1]])\n",
    "#convet to csv file\n",
    "#df.to_csv(\"friend.csv\")\n",
    "#ff.dtypes\n",
    "#df.columns\n",
    "#df.rows\n",
    "#df.to_csv(\"friend.csv\" , index=False)\n",
    "df.types"
   ]
  },
  {
   "cell_type": "code",
   "execution_count": 65,
   "id": "0f70262e",
   "metadata": {},
   "outputs": [
    {
     "name": "stdout",
     "output_type": "stream",
     "text": [
      "<class 'pandas.core.frame.DataFrame'>\n",
      "Int64Index: 20 entries, 0 to 19\n",
      "Data columns (total 10 columns):\n",
      " #   Column  Non-Null Count  Dtype  \n",
      "---  ------  --------------  -----  \n",
      " 0   0       20 non-null     float64\n",
      " 1   1       20 non-null     float64\n",
      " 2   2       20 non-null     float64\n",
      " 3   3       20 non-null     float64\n",
      " 4   4       20 non-null     float64\n",
      " 5   5       20 non-null     float64\n",
      " 6   6       20 non-null     float64\n",
      " 7   7       20 non-null     float64\n",
      " 8   8       20 non-null     float64\n",
      " 9   9       20 non-null     float64\n",
      "dtypes: float64(10)\n",
      "memory usage: 1.7 KB\n"
     ]
    },
    {
     "data": {
      "text/html": [
       "<div>\n",
       "<style scoped>\n",
       "    .dataframe tbody tr th:only-of-type {\n",
       "        vertical-align: middle;\n",
       "    }\n",
       "\n",
       "    .dataframe tbody tr th {\n",
       "        vertical-align: top;\n",
       "    }\n",
       "\n",
       "    .dataframe thead th {\n",
       "        text-align: right;\n",
       "    }\n",
       "</style>\n",
       "<table border=\"1\" class=\"dataframe\">\n",
       "  <thead>\n",
       "    <tr style=\"text-align: right;\">\n",
       "      <th></th>\n",
       "      <th>Duration</th>\n",
       "      <th>Pulse</th>\n",
       "      <th>Maxpulse</th>\n",
       "      <th>Calories</th>\n",
       "    </tr>\n",
       "  </thead>\n",
       "  <tbody>\n",
       "    <tr>\n",
       "      <th>0</th>\n",
       "      <td>60</td>\n",
       "      <td>110</td>\n",
       "      <td>130</td>\n",
       "      <td>409</td>\n",
       "    </tr>\n",
       "    <tr>\n",
       "      <th>1</th>\n",
       "      <td>60</td>\n",
       "      <td>117</td>\n",
       "      <td>145</td>\n",
       "      <td>479</td>\n",
       "    </tr>\n",
       "  </tbody>\n",
       "</table>\n",
       "</div>"
      ],
      "text/plain": [
       "   Duration  Pulse  Maxpulse  Calories\n",
       "0        60    110       130       409\n",
       "1        60    117       145       479"
      ]
     },
     "execution_count": 65,
     "metadata": {},
     "output_type": "execute_result"
    }
   ],
   "source": [
    "#check csv file\n",
    "\n",
    "new.info()\n",
    "df.head(2)"
   ]
  },
  {
   "cell_type": "code",
   "execution_count": 22,
   "id": "eb0bfe3a",
   "metadata": {},
   "outputs": [
    {
     "data": {
      "text/html": [
       "<div>\n",
       "<style scoped>\n",
       "    .dataframe tbody tr th:only-of-type {\n",
       "        vertical-align: middle;\n",
       "    }\n",
       "\n",
       "    .dataframe tbody tr th {\n",
       "        vertical-align: top;\n",
       "    }\n",
       "\n",
       "    .dataframe thead th {\n",
       "        text-align: right;\n",
       "    }\n",
       "</style>\n",
       "<table border=\"1\" class=\"dataframe\">\n",
       "  <thead>\n",
       "    <tr style=\"text-align: right;\">\n",
       "      <th></th>\n",
       "      <th>name</th>\n",
       "      <th>marks</th>\n",
       "      <th>city</th>\n",
       "    </tr>\n",
       "  </thead>\n",
       "  <tbody>\n",
       "    <tr>\n",
       "      <th>0</th>\n",
       "      <td>jugal</td>\n",
       "      <td>92</td>\n",
       "      <td>jammu</td>\n",
       "    </tr>\n",
       "    <tr>\n",
       "      <th>1</th>\n",
       "      <td>sharma</td>\n",
       "      <td>40</td>\n",
       "      <td>rampur</td>\n",
       "    </tr>\n",
       "    <tr>\n",
       "      <th>2</th>\n",
       "      <td>karan</td>\n",
       "      <td>20</td>\n",
       "      <td>pinkcity</td>\n",
       "    </tr>\n",
       "    <tr>\n",
       "      <th>3</th>\n",
       "      <td>anku</td>\n",
       "      <td>68</td>\n",
       "      <td>newYokr</td>\n",
       "    </tr>\n",
       "  </tbody>\n",
       "</table>\n",
       "</div>"
      ],
      "text/plain": [
       "     name  marks      city\n",
       "0   jugal     92     jammu\n",
       "1  sharma     40    rampur\n",
       "2   karan     20  pinkcity\n",
       "3    anku     68   newYokr"
      ]
     },
     "execution_count": 22,
     "metadata": {},
     "output_type": "execute_result"
    }
   ],
   "source": []
  },
  {
   "cell_type": "code",
   "execution_count": 26,
   "id": "26d14c98",
   "metadata": {
    "scrolled": true
   },
   "outputs": [
    {
     "data": {
      "text/html": [
       "<div>\n",
       "<style scoped>\n",
       "    .dataframe tbody tr th:only-of-type {\n",
       "        vertical-align: middle;\n",
       "    }\n",
       "\n",
       "    .dataframe tbody tr th {\n",
       "        vertical-align: top;\n",
       "    }\n",
       "\n",
       "    .dataframe thead th {\n",
       "        text-align: right;\n",
       "    }\n",
       "</style>\n",
       "<table border=\"1\" class=\"dataframe\">\n",
       "  <thead>\n",
       "    <tr style=\"text-align: right;\">\n",
       "      <th></th>\n",
       "      <th>marks</th>\n",
       "    </tr>\n",
       "  </thead>\n",
       "  <tbody>\n",
       "    <tr>\n",
       "      <th>count</th>\n",
       "      <td>4.000000</td>\n",
       "    </tr>\n",
       "    <tr>\n",
       "      <th>mean</th>\n",
       "      <td>55.000000</td>\n",
       "    </tr>\n",
       "    <tr>\n",
       "      <th>std</th>\n",
       "      <td>31.559468</td>\n",
       "    </tr>\n",
       "    <tr>\n",
       "      <th>min</th>\n",
       "      <td>20.000000</td>\n",
       "    </tr>\n",
       "    <tr>\n",
       "      <th>25%</th>\n",
       "      <td>35.000000</td>\n",
       "    </tr>\n",
       "    <tr>\n",
       "      <th>50%</th>\n",
       "      <td>54.000000</td>\n",
       "    </tr>\n",
       "    <tr>\n",
       "      <th>75%</th>\n",
       "      <td>74.000000</td>\n",
       "    </tr>\n",
       "    <tr>\n",
       "      <th>max</th>\n",
       "      <td>92.000000</td>\n",
       "    </tr>\n",
       "  </tbody>\n",
       "</table>\n",
       "</div>"
      ],
      "text/plain": [
       "           marks\n",
       "count   4.000000\n",
       "mean   55.000000\n",
       "std    31.559468\n",
       "min    20.000000\n",
       "25%    35.000000\n",
       "50%    54.000000\n",
       "75%    74.000000\n",
       "max    92.000000"
      ]
     },
     "execution_count": 26,
     "metadata": {},
     "output_type": "execute_result"
    }
   ],
   "source": [
    "df.describe()"
   ]
  },
  {
   "cell_type": "code",
   "execution_count": 36,
   "id": "7ef9a0e4",
   "metadata": {
    "scrolled": false
   },
   "outputs": [
    {
     "data": {
      "text/html": [
       "<div>\n",
       "<style scoped>\n",
       "    .dataframe tbody tr th:only-of-type {\n",
       "        vertical-align: middle;\n",
       "    }\n",
       "\n",
       "    .dataframe tbody tr th {\n",
       "        vertical-align: top;\n",
       "    }\n",
       "\n",
       "    .dataframe thead th {\n",
       "        text-align: right;\n",
       "    }\n",
       "</style>\n",
       "<table border=\"1\" class=\"dataframe\">\n",
       "  <thead>\n",
       "    <tr style=\"text-align: right;\">\n",
       "      <th></th>\n",
       "      <th>Price</th>\n",
       "      <th>Open</th>\n",
       "      <th>High</th>\n",
       "      <th>Low</th>\n",
       "      <th>data</th>\n",
       "    </tr>\n",
       "  </thead>\n",
       "  <tbody>\n",
       "    <tr>\n",
       "      <th>0</th>\n",
       "      <td>56,506.10</td>\n",
       "      <td>43,824.40</td>\n",
       "      <td>57,814.00</td>\n",
       "      <td>43,292.90</td>\n",
       "      <td>10.21</td>\n",
       "    </tr>\n",
       "    <tr>\n",
       "      <th>1</th>\n",
       "      <td>43,823.30</td>\n",
       "      <td>47,129.20</td>\n",
       "      <td>52,885.00</td>\n",
       "      <td>39,646.80</td>\n",
       "      <td>9.21</td>\n",
       "    </tr>\n",
       "    <tr>\n",
       "      <th>2</th>\n",
       "      <td>47,130.40</td>\n",
       "      <td>41,510.00</td>\n",
       "      <td>50,498.00</td>\n",
       "      <td>37,365.40</td>\n",
       "      <td>8.21</td>\n",
       "    </tr>\n",
       "    <tr>\n",
       "      <th>3</th>\n",
       "      <td>41,553.70</td>\n",
       "      <td>35,030.70</td>\n",
       "      <td>42,285.00</td>\n",
       "      <td>29,310.20</td>\n",
       "      <td>7.21</td>\n",
       "    </tr>\n",
       "    <tr>\n",
       "      <th>4</th>\n",
       "      <td>35,026.90</td>\n",
       "      <td>37,294.30</td>\n",
       "      <td>41,318.00</td>\n",
       "      <td>28,901.80</td>\n",
       "      <td>6.21</td>\n",
       "    </tr>\n",
       "  </tbody>\n",
       "</table>\n",
       "</div>"
      ],
      "text/plain": [
       "       Price       Open       High        Low   data\n",
       "0  56,506.10  43,824.40  57,814.00  43,292.90  10.21\n",
       "1  43,823.30  47,129.20  52,885.00  39,646.80   9.21\n",
       "2  47,130.40  41,510.00  50,498.00  37,365.40   8.21\n",
       "3  41,553.70  35,030.70  42,285.00  29,310.20   7.21\n",
       "4  35,026.90  37,294.30  41,318.00  28,901.80   6.21"
      ]
     },
     "execution_count": 36,
     "metadata": {},
     "output_type": "execute_result"
    }
   ],
   "source": [
    "#read csv file\n",
    "\n",
    "js=pd.read_csv(\"Shett.csv\")\n",
    "js.head(5)\n",
    "#df.tail(4)\n",
    "#js[\"Price\"]\n",
    "#df.describe()\n",
    "#skiprow\n",
    "\n",
    "#ff=pd.read_csv(\"Shett.csv\"  , skiprows=[1 ,2,3])\n",
    "\n",
    "#ff\n"
   ]
  },
  {
   "cell_type": "code",
   "execution_count": 53,
   "id": "27c4e29b",
   "metadata": {},
   "outputs": [
    {
     "data": {
      "text/plain": [
       "RangeIndex(start=0, stop=10, step=1)"
      ]
     },
     "execution_count": 53,
     "metadata": {},
     "output_type": "execute_result"
    }
   ],
   "source": [
    "\n",
    "#create a reandom \n",
    "ser=pd.Series(np.random.rand(20))\n",
    "\n",
    "ser\n",
    "type(ser)\n"
   ]
  },
  {
   "cell_type": "code",
   "execution_count": 93,
   "id": "d6b40299",
   "metadata": {
    "scrolled": true
   },
   "outputs": [
    {
     "data": {
      "text/html": [
       "<div>\n",
       "<style scoped>\n",
       "    .dataframe tbody tr th:only-of-type {\n",
       "        vertical-align: middle;\n",
       "    }\n",
       "\n",
       "    .dataframe tbody tr th {\n",
       "        vertical-align: top;\n",
       "    }\n",
       "\n",
       "    .dataframe thead th {\n",
       "        text-align: right;\n",
       "    }\n",
       "</style>\n",
       "<table border=\"1\" class=\"dataframe\">\n",
       "  <thead>\n",
       "    <tr style=\"text-align: right;\">\n",
       "      <th></th>\n",
       "      <th>0</th>\n",
       "      <th>1</th>\n",
       "      <th>2</th>\n",
       "      <th>3</th>\n",
       "      <th>4</th>\n",
       "      <th>5</th>\n",
       "      <th>6</th>\n",
       "      <th>7</th>\n",
       "      <th>8</th>\n",
       "      <th>9</th>\n",
       "    </tr>\n",
       "  </thead>\n",
       "  <tbody>\n",
       "    <tr>\n",
       "      <th>0</th>\n",
       "      <td>0.404126</td>\n",
       "      <td>0.392504</td>\n",
       "      <td>0.585745</td>\n",
       "      <td>0.200852</td>\n",
       "      <td>0.948225</td>\n",
       "      <td>0.757123</td>\n",
       "      <td>0.135911</td>\n",
       "      <td>0.779781</td>\n",
       "      <td>0.022050</td>\n",
       "      <td>0.830632</td>\n",
       "    </tr>\n",
       "    <tr>\n",
       "      <th>1</th>\n",
       "      <td>0.187971</td>\n",
       "      <td>0.919914</td>\n",
       "      <td>0.118923</td>\n",
       "      <td>0.920087</td>\n",
       "      <td>0.596395</td>\n",
       "      <td>0.175697</td>\n",
       "      <td>0.528580</td>\n",
       "      <td>0.636236</td>\n",
       "      <td>0.779460</td>\n",
       "      <td>0.852861</td>\n",
       "    </tr>\n",
       "    <tr>\n",
       "      <th>2</th>\n",
       "      <td>0.632834</td>\n",
       "      <td>0.049283</td>\n",
       "      <td>0.515165</td>\n",
       "      <td>0.924164</td>\n",
       "      <td>0.622540</td>\n",
       "      <td>0.417035</td>\n",
       "      <td>0.976830</td>\n",
       "      <td>0.793052</td>\n",
       "      <td>0.961840</td>\n",
       "      <td>0.342097</td>\n",
       "    </tr>\n",
       "    <tr>\n",
       "      <th>3</th>\n",
       "      <td>0.782510</td>\n",
       "      <td>0.413273</td>\n",
       "      <td>0.088487</td>\n",
       "      <td>0.215814</td>\n",
       "      <td>0.173224</td>\n",
       "      <td>0.175201</td>\n",
       "      <td>0.622689</td>\n",
       "      <td>0.042761</td>\n",
       "      <td>0.564042</td>\n",
       "      <td>0.538949</td>\n",
       "    </tr>\n",
       "    <tr>\n",
       "      <th>4</th>\n",
       "      <td>0.867579</td>\n",
       "      <td>0.115836</td>\n",
       "      <td>0.687313</td>\n",
       "      <td>0.784031</td>\n",
       "      <td>0.760703</td>\n",
       "      <td>0.847082</td>\n",
       "      <td>0.592531</td>\n",
       "      <td>0.525914</td>\n",
       "      <td>0.156256</td>\n",
       "      <td>0.571996</td>\n",
       "    </tr>\n",
       "  </tbody>\n",
       "</table>\n",
       "</div>"
      ],
      "text/plain": [
       "          0         1         2         3         4         5         6  \\\n",
       "0  0.404126  0.392504  0.585745  0.200852  0.948225  0.757123  0.135911   \n",
       "1  0.187971  0.919914  0.118923  0.920087  0.596395  0.175697  0.528580   \n",
       "2  0.632834  0.049283  0.515165  0.924164  0.622540  0.417035  0.976830   \n",
       "3  0.782510  0.413273  0.088487  0.215814  0.173224  0.175201  0.622689   \n",
       "4  0.867579  0.115836  0.687313  0.784031  0.760703  0.847082  0.592531   \n",
       "\n",
       "          7         8         9  \n",
       "0  0.779781  0.022050  0.830632  \n",
       "1  0.636236  0.779460  0.852861  \n",
       "2  0.793052  0.961840  0.342097  \n",
       "3  0.042761  0.564042  0.538949  \n",
       "4  0.525914  0.156256  0.571996  "
      ]
     },
     "execution_count": 93,
     "metadata": {},
     "output_type": "execute_result"
    }
   ],
   "source": [
    "new=pd.DataFrame(np.random.rand(20 , 10), index=np.arange(20))\n",
    "type(new)\n",
    "new.index#check index \n",
    "#new.columns\n",
    "new.to_numpy()#convert to numpy\n",
    "new.head(5)\n",
    "##new.sort_index(axis=0 , ascending=False)"
   ]
  },
  {
   "cell_type": "code",
   "execution_count": 141,
   "id": "1b6c7965",
   "metadata": {},
   "outputs": [],
   "source": [
    "#remove null and NaN values\n",
    "\n",
    "nan=pd.read_csv(\"nullnan.csv\")\n",
    "\n",
    "#nan.isnull()#check null value Show True\n",
    "nan.isnull().sum()#second check value NAN \n",
    "\n",
    "nan.dropna()\n",
    "\n",
    "#print(nan.to_string())\n",
    "nan.fillna(2, inplace = True)\n",
    "\n"
   ]
  },
  {
   "cell_type": "code",
   "execution_count": 144,
   "id": "856cc02b",
   "metadata": {},
   "outputs": [],
   "source": [
    "#nan.fillna(10) \n",
    "\n",
    "\n"
   ]
  },
  {
   "cell_type": "code",
   "execution_count": 107,
   "id": "586ffc4b",
   "metadata": {},
   "outputs": [
    {
     "data": {
      "text/html": [
       "<div>\n",
       "<style scoped>\n",
       "    .dataframe tbody tr th:only-of-type {\n",
       "        vertical-align: middle;\n",
       "    }\n",
       "\n",
       "    .dataframe tbody tr th {\n",
       "        vertical-align: top;\n",
       "    }\n",
       "\n",
       "    .dataframe thead th {\n",
       "        text-align: right;\n",
       "    }\n",
       "</style>\n",
       "<table border=\"1\" class=\"dataframe\">\n",
       "  <thead>\n",
       "    <tr style=\"text-align: right;\">\n",
       "      <th></th>\n",
       "      <th>name</th>\n",
       "      <th>class</th>\n",
       "      <th>rollNo</th>\n",
       "    </tr>\n",
       "  </thead>\n",
       "  <tbody>\n",
       "    <tr>\n",
       "      <th>0</th>\n",
       "      <td>jugal</td>\n",
       "      <td>10th</td>\n",
       "      <td>20</td>\n",
       "    </tr>\n",
       "    <tr>\n",
       "      <th>1</th>\n",
       "      <td>kanika</td>\n",
       "      <td>12th</td>\n",
       "      <td>22</td>\n",
       "    </tr>\n",
       "    <tr>\n",
       "      <th>3</th>\n",
       "      <td>anku</td>\n",
       "      <td>Null</td>\n",
       "      <td>Null</td>\n",
       "    </tr>\n",
       "  </tbody>\n",
       "</table>\n",
       "</div>"
      ],
      "text/plain": [
       "     name class rollNo\n",
       "0   jugal  10th     20\n",
       "1  kanika  12th     22\n",
       "3    anku  Null   Null"
      ]
     },
     "execution_count": 107,
     "metadata": {},
     "output_type": "execute_result"
    }
   ],
   "source": [
    "nan.dropna(inplace=True, axis=0)\n",
    "nan\n",
    "\n",
    "#nan.drop_duplicates(inplace=True)\n"
   ]
  },
  {
   "cell_type": "code",
   "execution_count": 143,
   "id": "5e4d4b60",
   "metadata": {},
   "outputs": [
    {
     "name": "stdout",
     "output_type": "stream",
     "text": [
      "     A    B\n",
      "0  1.0  5.0\n",
      "1  2.0  7.5\n",
      "2  3.0  7.0\n",
      "3  4.0  8.0\n",
      "4  2.5  9.0\n"
     ]
    }
   ],
   "source": [
    "# Create a DataFrame with some missing values\n",
    "data = {'A': [1, 2, 3, 4, None], 'B': [5, None, 7, 8, 9]}\n",
    "df = pd.DataFrame(data)\n",
    "\n",
    "# Fill missing values with the median of column A\n",
    "median = df['A'].median()\n",
    "df['A'].fillna(median, inplace=True)\n",
    "median = df['B'].median()\n",
    "df['B'].fillna(median, inplace=True)\n",
    "# Print the DataFrame to verify the changes\n",
    "print(df)\n"
   ]
  },
  {
   "cell_type": "code",
   "execution_count": null,
   "id": "27ee724f",
   "metadata": {},
   "outputs": [],
   "source": []
  }
 ],
 "metadata": {
  "kernelspec": {
   "display_name": "Python 3 (ipykernel)",
   "language": "python",
   "name": "python3"
  },
  "language_info": {
   "codemirror_mode": {
    "name": "ipython",
    "version": 3
   },
   "file_extension": ".py",
   "mimetype": "text/x-python",
   "name": "python",
   "nbconvert_exporter": "python",
   "pygments_lexer": "ipython3",
   "version": "3.11.0"
  }
 },
 "nbformat": 4,
 "nbformat_minor": 5
}
