{
 "cells": [
  {
   "cell_type": "code",
   "execution_count": 40,
   "id": "cdaccb23",
   "metadata": {},
   "outputs": [],
   "source": [
    "import pandas  as pd\n",
    "import numpy as np"
   ]
  },
  {
   "cell_type": "code",
   "execution_count": 4,
   "id": "26a70d03",
   "metadata": {},
   "outputs": [
    {
     "name": "stdout",
     "output_type": "stream",
     "text": [
      "<module 'pandas' from 'C:\\\\Users\\\\sjuga\\\\AppData\\\\Local\\\\Programs\\\\Python\\\\Python311\\\\Lib\\\\site-packages\\\\pandas\\\\__init__.py'>\n"
     ]
    }
   ],
   "source": [
    "print(pd)"
   ]
  },
  {
   "cell_type": "code",
   "execution_count": 90,
   "id": "851eef9a",
   "metadata": {},
   "outputs": [
    {
     "name": "stdout",
     "output_type": "stream",
     "text": [
      "     name  marks      city\n",
      "0   jugal     92     jammu\n",
      "1  sharma     40    rampur\n",
      "2   karan     20  pinkcity\n",
      "3    anku     68   newYokr\n",
      "     name  marks    city\n",
      "0   jugal     92   jammu\n",
      "1  sharma     40  rampur\n"
     ]
    }
   ],
   "source": [
    "#dict1 convert to Pd\n",
    "\n",
    "dict1={\n",
    "    \"name\":[\"jugal\" , \"sharma\" , \"karan\" , \"anku\"],\n",
    "    \"marks\":[92 , 40 , 20 , 68],\n",
    "    \"city\":[\"jammu\" , \"rampur\" , \"pinkcity\" , \"newYokr\"]\n",
    "} \n",
    "\n",
    "#print(dict1[\"name\"])\n",
    "df=pd.DataFrame(dict1)\n",
    "print(df)\n",
    "#use a list of indexes:\n",
    "print(df.loc[[0, 1]])\n",
    "#convet to csv file\n",
    "#df.to_csv(\"friend.csv\")\n",
    "#ff.dtypes\n",
    "#df.columns\n",
    "#df.rows\n",
    "#df.to_csv(\"friend.csv\" , index=False)"
   ]
  },
  {
   "cell_type": "code",
   "execution_count": 65,
   "id": "937e25ec",
   "metadata": {},
   "outputs": [
    {
     "name": "stdout",
     "output_type": "stream",
     "text": [
      "<class 'pandas.core.frame.DataFrame'>\n",
      "Int64Index: 20 entries, 0 to 19\n",
      "Data columns (total 10 columns):\n",
      " #   Column  Non-Null Count  Dtype  \n",
      "---  ------  --------------  -----  \n",
      " 0   0       20 non-null     float64\n",
      " 1   1       20 non-null     float64\n",
      " 2   2       20 non-null     float64\n",
      " 3   3       20 non-null     float64\n",
      " 4   4       20 non-null     float64\n",
      " 5   5       20 non-null     float64\n",
      " 6   6       20 non-null     float64\n",
      " 7   7       20 non-null     float64\n",
      " 8   8       20 non-null     float64\n",
      " 9   9       20 non-null     float64\n",
      "dtypes: float64(10)\n",
      "memory usage: 1.7 KB\n"
     ]
    },
    {
     "data": {
      "text/html": [
       "<div>\n",
       "<style scoped>\n",
       "    .dataframe tbody tr th:only-of-type {\n",
       "        vertical-align: middle;\n",
       "    }\n",
       "\n",
       "    .dataframe tbody tr th {\n",
       "        vertical-align: top;\n",
       "    }\n",
       "\n",
       "    .dataframe thead th {\n",
       "        text-align: right;\n",
       "    }\n",
       "</style>\n",
       "<table border=\"1\" class=\"dataframe\">\n",
       "  <thead>\n",
       "    <tr style=\"text-align: right;\">\n",
       "      <th></th>\n",
       "      <th>Duration</th>\n",
       "      <th>Pulse</th>\n",
       "      <th>Maxpulse</th>\n",
       "      <th>Calories</th>\n",
       "    </tr>\n",
       "  </thead>\n",
       "  <tbody>\n",
       "    <tr>\n",
       "      <th>0</th>\n",
       "      <td>60</td>\n",
       "      <td>110</td>\n",
       "      <td>130</td>\n",
       "      <td>409</td>\n",
       "    </tr>\n",
       "    <tr>\n",
       "      <th>1</th>\n",
       "      <td>60</td>\n",
       "      <td>117</td>\n",
       "      <td>145</td>\n",
       "      <td>479</td>\n",
       "    </tr>\n",
       "  </tbody>\n",
       "</table>\n",
       "</div>"
      ],
      "text/plain": [
       "   Duration  Pulse  Maxpulse  Calories\n",
       "0        60    110       130       409\n",
       "1        60    117       145       479"
      ]
     },
     "execution_count": 65,
     "metadata": {},
     "output_type": "execute_result"
    }
   ],
   "source": [
    "#check csv file\n",
    "\n",
    "new.info()\n",
    "df.head(2)"
   ]
  },
  {
   "cell_type": "code",
   "execution_count": 22,
   "id": "21da39d8",
   "metadata": {},
   "outputs": [
    {
     "data": {
      "text/html": [
       "<div>\n",
       "<style scoped>\n",
       "    .dataframe tbody tr th:only-of-type {\n",
       "        vertical-align: middle;\n",
       "    }\n",
       "\n",
       "    .dataframe tbody tr th {\n",
       "        vertical-align: top;\n",
       "    }\n",
       "\n",
       "    .dataframe thead th {\n",
       "        text-align: right;\n",
       "    }\n",
       "</style>\n",
       "<table border=\"1\" class=\"dataframe\">\n",
       "  <thead>\n",
       "    <tr style=\"text-align: right;\">\n",
       "      <th></th>\n",
       "      <th>name</th>\n",
       "      <th>marks</th>\n",
       "      <th>city</th>\n",
       "    </tr>\n",
       "  </thead>\n",
       "  <tbody>\n",
       "    <tr>\n",
       "      <th>0</th>\n",
       "      <td>jugal</td>\n",
       "      <td>92</td>\n",
       "      <td>jammu</td>\n",
       "    </tr>\n",
       "    <tr>\n",
       "      <th>1</th>\n",
       "      <td>sharma</td>\n",
       "      <td>40</td>\n",
       "      <td>rampur</td>\n",
       "    </tr>\n",
       "    <tr>\n",
       "      <th>2</th>\n",
       "      <td>karan</td>\n",
       "      <td>20</td>\n",
       "      <td>pinkcity</td>\n",
       "    </tr>\n",
       "    <tr>\n",
       "      <th>3</th>\n",
       "      <td>anku</td>\n",
       "      <td>68</td>\n",
       "      <td>newYokr</td>\n",
       "    </tr>\n",
       "  </tbody>\n",
       "</table>\n",
       "</div>"
      ],
      "text/plain": [
       "     name  marks      city\n",
       "0   jugal     92     jammu\n",
       "1  sharma     40    rampur\n",
       "2   karan     20  pinkcity\n",
       "3    anku     68   newYokr"
      ]
     },
     "execution_count": 22,
     "metadata": {},
     "output_type": "execute_result"
    }
   ],
   "source": []
  },
  {
   "cell_type": "code",
   "execution_count": 26,
   "id": "e5e7925f",
   "metadata": {
    "scrolled": true
   },
   "outputs": [
    {
     "data": {
      "text/html": [
       "<div>\n",
       "<style scoped>\n",
       "    .dataframe tbody tr th:only-of-type {\n",
       "        vertical-align: middle;\n",
       "    }\n",
       "\n",
       "    .dataframe tbody tr th {\n",
       "        vertical-align: top;\n",
       "    }\n",
       "\n",
       "    .dataframe thead th {\n",
       "        text-align: right;\n",
       "    }\n",
       "</style>\n",
       "<table border=\"1\" class=\"dataframe\">\n",
       "  <thead>\n",
       "    <tr style=\"text-align: right;\">\n",
       "      <th></th>\n",
       "      <th>marks</th>\n",
       "    </tr>\n",
       "  </thead>\n",
       "  <tbody>\n",
       "    <tr>\n",
       "      <th>count</th>\n",
       "      <td>4.000000</td>\n",
       "    </tr>\n",
       "    <tr>\n",
       "      <th>mean</th>\n",
       "      <td>55.000000</td>\n",
       "    </tr>\n",
       "    <tr>\n",
       "      <th>std</th>\n",
       "      <td>31.559468</td>\n",
       "    </tr>\n",
       "    <tr>\n",
       "      <th>min</th>\n",
       "      <td>20.000000</td>\n",
       "    </tr>\n",
       "    <tr>\n",
       "      <th>25%</th>\n",
       "      <td>35.000000</td>\n",
       "    </tr>\n",
       "    <tr>\n",
       "      <th>50%</th>\n",
       "      <td>54.000000</td>\n",
       "    </tr>\n",
       "    <tr>\n",
       "      <th>75%</th>\n",
       "      <td>74.000000</td>\n",
       "    </tr>\n",
       "    <tr>\n",
       "      <th>max</th>\n",
       "      <td>92.000000</td>\n",
       "    </tr>\n",
       "  </tbody>\n",
       "</table>\n",
       "</div>"
      ],
      "text/plain": [
       "           marks\n",
       "count   4.000000\n",
       "mean   55.000000\n",
       "std    31.559468\n",
       "min    20.000000\n",
       "25%    35.000000\n",
       "50%    54.000000\n",
       "75%    74.000000\n",
       "max    92.000000"
      ]
     },
     "execution_count": 26,
     "metadata": {},
     "output_type": "execute_result"
    }
   ],
   "source": [
    "df.describe()"
   ]
  },
  {
   "cell_type": "code",
   "execution_count": 36,
   "id": "8ad94ea4",
   "metadata": {
    "scrolled": false
   },
   "outputs": [
    {
     "data": {
      "text/html": [
       "<div>\n",
       "<style scoped>\n",
       "    .dataframe tbody tr th:only-of-type {\n",
       "        vertical-align: middle;\n",
       "    }\n",
       "\n",
       "    .dataframe tbody tr th {\n",
       "        vertical-align: top;\n",
       "    }\n",
       "\n",
       "    .dataframe thead th {\n",
       "        text-align: right;\n",
       "    }\n",
       "</style>\n",
       "<table border=\"1\" class=\"dataframe\">\n",
       "  <thead>\n",
       "    <tr style=\"text-align: right;\">\n",
       "      <th></th>\n",
       "      <th>Price</th>\n",
       "      <th>Open</th>\n",
       "      <th>High</th>\n",
       "      <th>Low</th>\n",
       "      <th>data</th>\n",
       "    </tr>\n",
       "  </thead>\n",
       "  <tbody>\n",
       "    <tr>\n",
       "      <th>0</th>\n",
       "      <td>56,506.10</td>\n",
       "      <td>43,824.40</td>\n",
       "      <td>57,814.00</td>\n",
       "      <td>43,292.90</td>\n",
       "      <td>10.21</td>\n",
       "    </tr>\n",
       "    <tr>\n",
       "      <th>1</th>\n",
       "      <td>43,823.30</td>\n",
       "      <td>47,129.20</td>\n",
       "      <td>52,885.00</td>\n",
       "      <td>39,646.80</td>\n",
       "      <td>9.21</td>\n",
       "    </tr>\n",
       "    <tr>\n",
       "      <th>2</th>\n",
       "      <td>47,130.40</td>\n",
       "      <td>41,510.00</td>\n",
       "      <td>50,498.00</td>\n",
       "      <td>37,365.40</td>\n",
       "      <td>8.21</td>\n",
       "    </tr>\n",
       "    <tr>\n",
       "      <th>3</th>\n",
       "      <td>41,553.70</td>\n",
       "      <td>35,030.70</td>\n",
       "      <td>42,285.00</td>\n",
       "      <td>29,310.20</td>\n",
       "      <td>7.21</td>\n",
       "    </tr>\n",
       "    <tr>\n",
       "      <th>4</th>\n",
       "      <td>35,026.90</td>\n",
       "      <td>37,294.30</td>\n",
       "      <td>41,318.00</td>\n",
       "      <td>28,901.80</td>\n",
       "      <td>6.21</td>\n",
       "    </tr>\n",
       "  </tbody>\n",
       "</table>\n",
       "</div>"
      ],
      "text/plain": [
       "       Price       Open       High        Low   data\n",
       "0  56,506.10  43,824.40  57,814.00  43,292.90  10.21\n",
       "1  43,823.30  47,129.20  52,885.00  39,646.80   9.21\n",
       "2  47,130.40  41,510.00  50,498.00  37,365.40   8.21\n",
       "3  41,553.70  35,030.70  42,285.00  29,310.20   7.21\n",
       "4  35,026.90  37,294.30  41,318.00  28,901.80   6.21"
      ]
     },
     "execution_count": 36,
     "metadata": {},
     "output_type": "execute_result"
    }
   ],
   "source": [
    "#read csv file\n",
    "\n",
    "js=pd.read_csv(\"Shett.csv\")\n",
    "js.head(5)\n",
    "#df.tail(4)\n",
    "#js[\"Price\"]\n",
    "#df.describe()\n",
    "#skiprow\n",
    "\n",
    "#ff=pd.read_csv(\"Shett.csv\"  , skiprows=[1 ,2,3])\n",
    "\n",
    "#ff\n"
   ]
  },
  {
   "cell_type": "code",
   "execution_count": 53,
   "id": "c606d776",
   "metadata": {},
   "outputs": [
    {
     "data": {
      "text/plain": [
       "RangeIndex(start=0, stop=10, step=1)"
      ]
     },
     "execution_count": 53,
     "metadata": {},
     "output_type": "execute_result"
    }
   ],
   "source": [
    "\n",
    "#create a reandom \n",
    "ser=pd.Series(np.random.rand(20))\n",
    "\n",
    "ser\n",
    "type(ser)\n"
   ]
  },
  {
   "cell_type": "code",
   "execution_count": 61,
   "id": "2e569ac8",
   "metadata": {
    "scrolled": true
   },
   "outputs": [
    {
     "data": {
      "text/html": [
       "<div>\n",
       "<style scoped>\n",
       "    .dataframe tbody tr th:only-of-type {\n",
       "        vertical-align: middle;\n",
       "    }\n",
       "\n",
       "    .dataframe tbody tr th {\n",
       "        vertical-align: top;\n",
       "    }\n",
       "\n",
       "    .dataframe thead th {\n",
       "        text-align: right;\n",
       "    }\n",
       "</style>\n",
       "<table border=\"1\" class=\"dataframe\">\n",
       "  <thead>\n",
       "    <tr style=\"text-align: right;\">\n",
       "      <th></th>\n",
       "      <th>0</th>\n",
       "      <th>1</th>\n",
       "      <th>2</th>\n",
       "      <th>3</th>\n",
       "      <th>4</th>\n",
       "      <th>5</th>\n",
       "      <th>6</th>\n",
       "      <th>7</th>\n",
       "      <th>8</th>\n",
       "      <th>9</th>\n",
       "    </tr>\n",
       "  </thead>\n",
       "  <tbody>\n",
       "    <tr>\n",
       "      <th>0</th>\n",
       "      <td>0.787183</td>\n",
       "      <td>0.187942</td>\n",
       "      <td>0.225597</td>\n",
       "      <td>0.291697</td>\n",
       "      <td>0.605915</td>\n",
       "      <td>0.128058</td>\n",
       "      <td>0.693708</td>\n",
       "      <td>0.947974</td>\n",
       "      <td>0.934327</td>\n",
       "      <td>0.742297</td>\n",
       "    </tr>\n",
       "    <tr>\n",
       "      <th>1</th>\n",
       "      <td>0.897311</td>\n",
       "      <td>0.032107</td>\n",
       "      <td>0.841087</td>\n",
       "      <td>0.848751</td>\n",
       "      <td>0.216092</td>\n",
       "      <td>0.761246</td>\n",
       "      <td>0.399394</td>\n",
       "      <td>0.938489</td>\n",
       "      <td>0.456527</td>\n",
       "      <td>0.455294</td>\n",
       "    </tr>\n",
       "    <tr>\n",
       "      <th>2</th>\n",
       "      <td>0.980539</td>\n",
       "      <td>0.889570</td>\n",
       "      <td>0.664287</td>\n",
       "      <td>0.605134</td>\n",
       "      <td>0.307077</td>\n",
       "      <td>0.749329</td>\n",
       "      <td>0.232388</td>\n",
       "      <td>0.941439</td>\n",
       "      <td>0.582911</td>\n",
       "      <td>0.998478</td>\n",
       "    </tr>\n",
       "    <tr>\n",
       "      <th>3</th>\n",
       "      <td>0.922324</td>\n",
       "      <td>0.964001</td>\n",
       "      <td>0.941907</td>\n",
       "      <td>0.715552</td>\n",
       "      <td>0.107769</td>\n",
       "      <td>0.244323</td>\n",
       "      <td>0.716357</td>\n",
       "      <td>0.406750</td>\n",
       "      <td>0.827759</td>\n",
       "      <td>0.011034</td>\n",
       "    </tr>\n",
       "    <tr>\n",
       "      <th>4</th>\n",
       "      <td>0.598018</td>\n",
       "      <td>0.056534</td>\n",
       "      <td>0.132210</td>\n",
       "      <td>0.791035</td>\n",
       "      <td>0.055560</td>\n",
       "      <td>0.316640</td>\n",
       "      <td>0.633688</td>\n",
       "      <td>0.586564</td>\n",
       "      <td>0.233656</td>\n",
       "      <td>0.670097</td>\n",
       "    </tr>\n",
       "  </tbody>\n",
       "</table>\n",
       "</div>"
      ],
      "text/plain": [
       "          0         1         2         3         4         5         6  \\\n",
       "0  0.787183  0.187942  0.225597  0.291697  0.605915  0.128058  0.693708   \n",
       "1  0.897311  0.032107  0.841087  0.848751  0.216092  0.761246  0.399394   \n",
       "2  0.980539  0.889570  0.664287  0.605134  0.307077  0.749329  0.232388   \n",
       "3  0.922324  0.964001  0.941907  0.715552  0.107769  0.244323  0.716357   \n",
       "4  0.598018  0.056534  0.132210  0.791035  0.055560  0.316640  0.633688   \n",
       "\n",
       "          7         8         9  \n",
       "0  0.947974  0.934327  0.742297  \n",
       "1  0.938489  0.456527  0.455294  \n",
       "2  0.941439  0.582911  0.998478  \n",
       "3  0.406750  0.827759  0.011034  \n",
       "4  0.586564  0.233656  0.670097  "
      ]
     },
     "execution_count": 61,
     "metadata": {},
     "output_type": "execute_result"
    }
   ],
   "source": [
    "new=pd.DataFrame(np.random.rand(20 , 10), index=np.arange(20))\n",
    "type(new)\n",
    "new.index#check index \n",
    "#new.columns\n",
    "new.to_numpy()#convert to numpy\n",
    "new.head(5)\n",
    "#new.sort_index(axis=0 , ascending=False)"
   ]
  },
  {
   "cell_type": "code",
   "execution_count": null,
   "id": "9ce2b912",
   "metadata": {},
   "outputs": [],
   "source": [
    "\n"
   ]
  },
  {
   "cell_type": "code",
   "execution_count": null,
   "id": "d94e23ac",
   "metadata": {},
   "outputs": [],
   "source": [
    "\n"
   ]
  },
  {
   "cell_type": "code",
   "execution_count": null,
   "id": "cec432db",
   "metadata": {},
   "outputs": [],
   "source": []
  }
 ],
 "metadata": {
  "kernelspec": {
   "display_name": "Python 3 (ipykernel)",
   "language": "python",
   "name": "python3"
  },
  "language_info": {
   "codemirror_mode": {
    "name": "ipython",
    "version": 3
   },
   "file_extension": ".py",
   "mimetype": "text/x-python",
   "name": "python",
   "nbconvert_exporter": "python",
   "pygments_lexer": "ipython3",
   "version": "3.11.0"
  }
 },
 "nbformat": 4,
 "nbformat_minor": 5
}
